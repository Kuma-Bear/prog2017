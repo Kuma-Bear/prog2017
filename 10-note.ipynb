{
 "cells": [
  {
   "cell_type": "code",
   "execution_count": 1,
   "metadata": {
    "collapsed": false
   },
   "outputs": [
    {
     "data": {
      "text/plain": [
       "2"
      ]
     },
     "execution_count": 1,
     "metadata": {},
     "output_type": "execute_result"
    }
   ],
   "source": [
    "1+1"
   ]
  },
  {
   "cell_type": "code",
   "execution_count": 3,
   "metadata": {
    "collapsed": false
   },
   "outputs": [
    {
     "name": "stdout",
     "output_type": "stream",
     "text": [
      "1\n",
      "2\n",
      "Fizz\n",
      "4\n",
      "Buzz\n",
      "Fizz\n",
      "7\n",
      "8\n",
      "Fizz\n",
      "Buzz\n",
      "11\n",
      "Fizz\n",
      "13\n",
      "14\n",
      "Fizz Buzz\n",
      "16\n",
      "17\n",
      "Fizz\n",
      "19\n",
      "Buzz\n"
     ]
    }
   ],
   "source": [
    "for x in range(1,21):\n",
    "    if x % 3 == 0 and x % 5 ==0:\n",
    "      print('Fizz Buzz')\n",
    "    elif x % 3 == 0 and x % 5 !=0:\n",
    "      print('Fizz')\n",
    "    elif x % 3 != 0 and x % 5 ==0:\n",
    "      print('Buzz')\n",
    "    else:\n",
    "      print(x)"
   ]
  },
  {
   "cell_type": "code",
   "execution_count": 4,
   "metadata": {
    "collapsed": false
   },
   "outputs": [
    {
     "name": "stdout",
     "output_type": "stream",
     "text": [
      "1\n",
      "2\n",
      "Fizz\n",
      "4\n",
      "Buzz\n",
      "Fizz\n",
      "7\n",
      "8\n",
      "Fizz\n",
      "Buzz\n",
      "11\n",
      "Fizz\n",
      "13\n",
      "14\n",
      "Fizz Buzz\n",
      "16\n",
      "17\n",
      "Fizz\n",
      "19\n",
      "Buzz\n"
     ]
    }
   ],
   "source": [
    "for x in range(1,21):\n",
    "    if x % 15 ==0:\n",
    "      print('Fizz Buzz')\n",
    "    elif x % 3 == 0 and x % 5 !=0:\n",
    "      print('Fizz')\n",
    "    elif x % 3 != 0 and x % 5 ==0:\n",
    "      print('Buzz')\n",
    "    else:\n",
    "      print(x)"
   ]
  },
  {
   "cell_type": "markdown",
   "metadata": {},
   "source": [
    "問120～"
   ]
  },
  {
   "cell_type": "code",
   "execution_count": 18,
   "metadata": {
    "collapsed": false
   },
   "outputs": [
    {
     "data": {
      "text/plain": [
       "'名前は太郎、100歳です。'"
      ]
     },
     "execution_count": 18,
     "metadata": {},
     "output_type": "execute_result"
    }
   ],
   "source": [
    "'名前は{0}、{1}歳です。'.format('太郎', 100)"
   ]
  },
  {
   "cell_type": "code",
   "execution_count": null,
   "metadata": {
    "collapsed": true
   },
   "outputs": [],
   "source": [
    "'名前は'+"
   ]
  },
  {
   "cell_type": "code",
   "execution_count": 19,
   "metadata": {
    "collapsed": false
   },
   "outputs": [
    {
     "name": "stdout",
     "output_type": "stream",
     "text": [
      " 名前は 太郎，10歳，体重は20.6Kg です。\n"
     ]
    }
   ],
   "source": [
    "name = ' 太郎'\n",
    "age = 10\n",
    "weight = 20.567\n",
    "print(' 名前は{0}，{1}歳，体重は{2:.1f}Kg です。'.format(name, age, weight))"
   ]
  },
  {
   "cell_type": "code",
   "execution_count": 20,
   "metadata": {
    "collapsed": false
   },
   "outputs": [
    {
     "name": "stdout",
     "output_type": "stream",
     "text": [
      " 何か入力してください：io\n",
      " 入力されたのは「io」です。\n"
     ]
    }
   ],
   "source": [
    "# coding:utf-8\n",
    "str = input(' 何か入力してください：')\n",
    "print(' 入力されたのは「{0}」です。'.format(str))"
   ]
  },
  {
   "cell_type": "code",
   "execution_count": 21,
   "metadata": {
    "collapsed": false
   },
   "outputs": [
    {
     "name": "stdout",
     "output_type": "stream",
     "text": [
      " こんにちは\n",
      " 身長（m）？ 180\n",
      " 身長は180m ですね\n",
      " 体重（kg）？ 15\n",
      " 体重は15kg ですね\n",
      "BMI は0.000462962962962963です\n",
      " 約0.0です\n"
     ]
    }
   ],
   "source": [
    "# coding:utf-8\n",
    "\n",
    "print(' こんにちは')\n",
    "\n",
    "\n",
    "\n",
    "#身長の入力\n",
    "\n",
    "h = input(' 身長（m）？ ')\n",
    "\n",
    "print(' 身長は{0}m ですね'.format(h))\n",
    "\n",
    "\n",
    "\n",
    "#体重の入力\n",
    "\n",
    "w = input(' 体重（kg）？ ')\n",
    "\n",
    "print(' 体重は{0}kg ですね'.format(w))\n",
    "\n",
    "\n",
    "\n",
    "#BMI の計算\n",
    "\n",
    "bmi = float(w) / float(h) ** 2\n",
    "\n",
    "\n",
    "\n",
    "#BMI の表示\n",
    "\n",
    "print('BMI は{0}です'.format(bmi))\n",
    "\n",
    "print(' 約{0:.1f}です'.format(bmi))"
   ]
  },
  {
   "cell_type": "code",
   "execution_count": 4,
   "metadata": {
    "collapsed": false
   },
   "outputs": [
    {
     "name": "stdout",
     "output_type": "stream",
     "text": [
      " こんにちは\n",
      " 身長（m）？ 1.8\n",
      " 身長は1.8m ですね\n",
      " 体重（kg）？ 90\n",
      " 体重は90kg ですね\n",
      "BMI は27.777777777777775です\n",
      " 約27.778です\n"
     ]
    }
   ],
   "source": [
    "# coding:utf-8\n",
    "\n",
    "print(' こんにちは')\n",
    "\n",
    "\n",
    "\n",
    "#身長の入力\n",
    "\n",
    "h = input(' 身長（m）？ ')\n",
    "\n",
    "print(' 身長は{0}m ですね'.format(h))\n",
    "\n",
    "\n",
    "\n",
    "#体重の入力\n",
    "\n",
    "w = input(' 体重（kg）？ ')\n",
    "\n",
    "print(' 体重は{0}kg ですね'.format(w))\n",
    "\n",
    "\n",
    "\n",
    "#BMI の計算\n",
    "\n",
    "bmi = float(w) / float(h) ** 2\n",
    "\n",
    "\n",
    "\n",
    "#BMI の表示\n",
    "\n",
    "print('BMI は{0}です'.format(bmi))\n",
    "\n",
    "print(' 約{0:.3f}です'.format(bmi))"
   ]
  },
  {
   "cell_type": "code",
   "execution_count": 1,
   "metadata": {
    "collapsed": false
   },
   "outputs": [
    {
     "data": {
      "text/plain": [
       "34.602076124567475"
      ]
     },
     "execution_count": 1,
     "metadata": {},
     "output_type": "execute_result"
    }
   ],
   "source": [
    "float('100') / float('1.7') ** 2"
   ]
  },
  {
   "cell_type": "code",
   "execution_count": 2,
   "metadata": {
    "collapsed": false
   },
   "outputs": [
    {
     "data": {
      "text/plain": [
       "'100歳です'"
      ]
     },
     "execution_count": 2,
     "metadata": {},
     "output_type": "execute_result"
    }
   ],
   "source": [
    "str(100) + '歳です'"
   ]
  },
  {
   "cell_type": "markdown",
   "metadata": {},
   "source": [
    "問121"
   ]
  },
  {
   "cell_type": "markdown",
   "metadata": {},
   "source": [
    "コロン、スペースキー(tabキーでも可)"
   ]
  },
  {
   "cell_type": "code",
   "execution_count": 11,
   "metadata": {
    "collapsed": false
   },
   "outputs": [
    {
     "ename": "SyntaxError",
     "evalue": "invalid syntax (<ipython-input-11-c464e36ca9f8>, line 1)",
     "output_type": "error",
     "traceback": [
      "\u001b[0;36m  File \u001b[0;32m\"<ipython-input-11-c464e36ca9f8>\"\u001b[0;36m, line \u001b[0;32m1\u001b[0m\n\u001b[0;31m    sample_dic = {'A':100, 'B'200}\u001b[0m\n\u001b[0m                                ^\u001b[0m\n\u001b[0;31mSyntaxError\u001b[0m\u001b[0;31m:\u001b[0m invalid syntax\n"
     ]
    }
   ],
   "source": [
    "sample_dic = {'A':100, 'B'200}\n",
    "\n",
    "for v in sample_dic:\n",
    "    print(v)"
   ]
  },
  {
   "cell_type": "markdown",
   "metadata": {},
   "source": [
    "問125\n",
    "else、elif"
   ]
  },
  {
   "cell_type": "code",
   "execution_count": 10,
   "metadata": {
    "collapsed": false
   },
   "outputs": [
    {
     "name": "stdout",
     "output_type": "stream",
     "text": [
      "1\n",
      "2\n",
      "3\n",
      "4\n",
      "5\n"
     ]
    }
   ],
   "source": [
    "for x in range(1,6):\n",
    "    print(x)"
   ]
  },
  {
   "cell_type": "code",
   "execution_count": 2,
   "metadata": {
    "collapsed": false
   },
   "outputs": [
    {
     "name": "stdout",
     "output_type": "stream",
     "text": [
      "1\n",
      "2\n"
     ]
    }
   ],
   "source": [
    "for x in range(1,6):\n",
    "    if x == 3:\n",
    "        break\n",
    "    print(x)"
   ]
  },
  {
   "cell_type": "code",
   "execution_count": 4,
   "metadata": {
    "collapsed": false
   },
   "outputs": [
    {
     "name": "stdout",
     "output_type": "stream",
     "text": [
      "1\n",
      "2\n",
      "4\n",
      "5\n"
     ]
    }
   ],
   "source": [
    "for x in range(1,6):\n",
    "    if x == 3:\n",
    "        continue\n",
    "    print(x)"
   ]
  },
  {
   "cell_type": "code",
   "execution_count": 5,
   "metadata": {
    "collapsed": false
   },
   "outputs": [
    {
     "ename": "IndentationError",
     "evalue": "expected an indented block (<ipython-input-5-5e8c0e64cb80>, line 3)",
     "output_type": "error",
     "traceback": [
      "\u001b[0;36m  File \u001b[0;32m\"<ipython-input-5-5e8c0e64cb80>\"\u001b[0;36m, line \u001b[0;32m3\u001b[0m\n\u001b[0;31m    print(x)\u001b[0m\n\u001b[0m        ^\u001b[0m\n\u001b[0;31mIndentationError\u001b[0m\u001b[0;31m:\u001b[0m expected an indented block\n"
     ]
    }
   ],
   "source": [
    "for x in range(1,6):\n",
    "    if x !=3:\n",
    "    print(x)"
   ]
  },
  {
   "cell_type": "markdown",
   "metadata": {},
   "source": [
    "Q124\n",
    "break,continue"
   ]
  },
  {
   "cell_type": "code",
   "execution_count": 6,
   "metadata": {
    "collapsed": false
   },
   "outputs": [
    {
     "data": {
      "text/plain": [
       "b'\\xe3\\x81\\x82'"
      ]
     },
     "execution_count": 6,
     "metadata": {},
     "output_type": "execute_result"
    }
   ],
   "source": [
    "'あ'.encode('utf-8')"
   ]
  },
  {
   "cell_type": "code",
   "execution_count": 8,
   "metadata": {
    "collapsed": false
   },
   "outputs": [
    {
     "data": {
      "text/plain": [
       "b'\\x82\\xa0'"
      ]
     },
     "execution_count": 8,
     "metadata": {},
     "output_type": "execute_result"
    }
   ],
   "source": [
    "'あ'.encode('cp932')"
   ]
  },
  {
   "cell_type": "code",
   "execution_count": null,
   "metadata": {
    "collapsed": true
   },
   "outputs": [],
   "source": []
  }
 ],
 "metadata": {
  "kernelspec": {
   "display_name": "Python 3",
   "language": "python",
   "name": "python3"
  },
  "language_info": {
   "codemirror_mode": {
    "name": "ipython",
    "version": 3
   },
   "file_extension": ".py",
   "mimetype": "text/x-python",
   "name": "python",
   "nbconvert_exporter": "python",
   "pygments_lexer": "ipython3",
   "version": "3.6.0"
  }
 },
 "nbformat": 4,
 "nbformat_minor": 2
}
